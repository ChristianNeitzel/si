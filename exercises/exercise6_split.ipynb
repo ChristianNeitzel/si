{
 "cells": [
  {
   "cell_type": "markdown",
   "metadata": {},
   "source": [
    "# Exercise 6: Implementing stratified splitting\n",
    "6.2) Test the \"stratified_train_test_split\" function with the iris dataset. \n",
    "\n",
    "(Jupyter notebook)"
   ]
  },
  {
   "cell_type": "code",
   "execution_count": 1,
   "metadata": {},
   "outputs": [
    {
     "name": "stdout",
     "output_type": "stream",
     "text": [
      "Shape: (150, 4)\n",
      "Has Label?: True\n",
      "Label/Classes: ['Iris-setosa' 'Iris-versicolor' 'Iris-virginica']\n",
      "Features: Index(['sepal_length', 'sepal_width', 'petal_length', 'petal_width'], dtype='object')\n"
     ]
    }
   ],
   "source": [
    "from si.io.csv_file import read_csv\n",
    "from si.data.dataset import Dataset\n",
    "\n",
    "# Load Iris dataset\n",
    "iris = read_csv(\"../datasets/iris/iris.csv\",features=True, label=True)\n",
    "\n",
    "print(f\"Shape: {iris.shape()}\")\n",
    "print(f\"Has Label?: {iris.has_label()}\")\n",
    "print(f\"Label/Classes: {iris.get_classes()}\")\n",
    "print(f\"Features: {iris.features}\")\n",
    "\n",
    "iris = Dataset(X=iris.X, y=iris.y, features=iris.features, label=iris.label)"
   ]
  },
  {
   "cell_type": "code",
   "execution_count": 2,
   "metadata": {},
   "outputs": [
    {
     "data": {
      "text/plain": [
       "(<si.data.dataset.Dataset at 0x22337e0d5b0>,\n",
       " <si.data.dataset.Dataset at 0x22337ecbfb0>)"
      ]
     },
     "execution_count": 2,
     "metadata": {},
     "output_type": "execute_result"
    }
   ],
   "source": [
    "from si.model_selection.split import stratified_train_test_split\n",
    "\n",
    "train, test = stratified_train_test_split(dataset=iris, test_size=0.2, random_state=42)\n",
    "train, test"
   ]
  },
  {
   "cell_type": "code",
   "execution_count": 3,
   "metadata": {},
   "outputs": [
    {
     "name": "stdout",
     "output_type": "stream",
     "text": [
      "Original Classes: ['Iris-setosa' 'Iris-versicolor' 'Iris-virginica'], Original counts: [50 50 50]\n",
      "Train classes: ['Iris-setosa' 'Iris-versicolor' 'Iris-virginica'], Train counts: [40 40 40]\n",
      "Test classes: ['Iris-setosa' 'Iris-versicolor' 'Iris-virginica'], Test counts: [10 10 10]\n"
     ]
    }
   ],
   "source": [
    "import numpy as np\n",
    "\n",
    "original_classes, original_counts = np.unique(iris.y, return_counts=True)\n",
    "train_classes, train_counts = np.unique(train.y, return_counts=True)\n",
    "test_classes, test_counts = np.unique(test.y, return_counts=True)\n",
    "\n",
    "print(f\"Original Classes: {original_classes}, Original counts: {original_counts}\")\n",
    "print(f\"Train classes: {train_classes}, Train counts: {train_counts}\")\n",
    "print(f\"Test classes: {test_classes}, Test counts: {test_counts}\")"
   ]
  }
 ],
 "metadata": {
  "kernelspec": {
   "display_name": "myenv",
   "language": "python",
   "name": "python3"
  },
  "language_info": {
   "codemirror_mode": {
    "name": "ipython",
    "version": 3
   },
   "file_extension": ".py",
   "mimetype": "text/x-python",
   "name": "python",
   "nbconvert_exporter": "python",
   "pygments_lexer": "ipython3",
   "version": "3.12.7"
  }
 },
 "nbformat": 4,
 "nbformat_minor": 2
}
