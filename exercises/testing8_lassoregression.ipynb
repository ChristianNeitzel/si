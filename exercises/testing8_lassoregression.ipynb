{
 "cells": [
  {
   "cell_type": "markdown",
   "metadata": {},
   "source": [
    "### Testing the implementation of the Convergence Tolerance in Lasso Regression"
   ]
  },
  {
   "cell_type": "code",
   "execution_count": 1,
   "metadata": {},
   "outputs": [],
   "source": [
    "from sklearn.datasets import load_breast_cancer\n",
    "from si.data.dataset import Dataset\n",
    "from si.models.lasso_regression import LassoRegression\n",
    "import time"
   ]
  },
  {
   "cell_type": "code",
   "execution_count": null,
   "metadata": {},
   "outputs": [
    {
     "name": "stdout",
     "output_type": "stream",
     "text": [
      "Runtime with tolerance: 0.5968 seconds\n",
      "Runtime without tolerance: 1.2458 seconds\n",
      "MSE with tolerance: 0.0541\n",
      "MSE without tolerance: 0.0541\n"
     ]
    }
   ],
   "source": [
    "# Load dataset\n",
    "data = load_breast_cancer()\n",
    "X, y = data.data, data.target\n",
    "dataset = Dataset(X=X, y=y, features=data.feature_names, label=\"Progression\")\n",
    "\n",
    "# Test with tolerance\n",
    "lasso_with_tol = LassoRegression(tolerance=1e-4)\n",
    "start_with_tol = time.time()\n",
    "lasso_with_tol.fit(dataset)\n",
    "end_with_tol = time.time()\n",
    "\n",
    "# Test without tolerance\n",
    "lasso_no_tol = LassoRegression(tolerance=0)  # Set tolerance to 0 to disable it\n",
    "start_no_tol = time.time()\n",
    "lasso_no_tol.fit(dataset)\n",
    "end_no_tol = time.time()\n",
    "\n",
    "# Compare runtime\n",
    "print(f\"Runtime with tolerance: {end_with_tol - start_with_tol:.4f} seconds\")\n",
    "print(f\"Runtime without tolerance: {end_no_tol - start_no_tol:.4f} seconds\")\n",
    "\n",
    "# Compare accuracy\n",
    "predictions_with_tol = lasso_with_tol.predict(dataset)\n",
    "predictions_no_tol = lasso_no_tol.predict(dataset)\n",
    "print(f\"MSE with tolerance: {lasso_with_tol.score(dataset):.4f}\")\n",
    "print(f\"MSE without tolerance: {lasso_with_tol.score(dataset):.4f}\")"
   ]
  },
  {
   "cell_type": "code",
   "execution_count": null,
   "metadata": {},
   "outputs": [],
   "source": []
  }
 ],
 "metadata": {
  "kernelspec": {
   "display_name": "myenv",
   "language": "python",
   "name": "python3"
  },
  "language_info": {
   "codemirror_mode": {
    "name": "ipython",
    "version": 3
   },
   "file_extension": ".py",
   "mimetype": "text/x-python",
   "name": "python",
   "nbconvert_exporter": "python",
   "pygments_lexer": "ipython3",
   "version": "3.12.7"
  }
 },
 "nbformat": 4,
 "nbformat_minor": 2
}
