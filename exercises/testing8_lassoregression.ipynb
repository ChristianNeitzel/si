{
 "cells": [
  {
   "cell_type": "markdown",
   "metadata": {},
   "source": [
    "### Testing the implementation of the Convergence Tolerance in Lasso Regression"
   ]
  },
  {
   "cell_type": "code",
   "execution_count": 1,
   "metadata": {},
   "outputs": [
    {
     "name": "stdout",
     "output_type": "stream",
     "text": [
      "Shape: (209, 6)\n",
      "Has Label?: True\n",
      "\n",
      "Label/Classes: \n",
      "[   6    7    8   10   11   12   13   14   16   17   18   19   20   21\n",
      "   22   23   24   25   26   27   28   29   30   31   32   33   34   35\n",
      "   36   37   38   40   41   42   44   45   46   49   50   51   52   53\n",
      "   54   56   58   60   61   62   63   64   65   66   67   69   70   71\n",
      "   72   74   75   76   77   80   84   86   92   93  100  105  106  109\n",
      "  110  113  114  116  120  130  132  133  134  136  138  140  141  143\n",
      "  144  172  173  185  188  189  198  208  212  214  220  237  248  259\n",
      "  269  274  277  307  318  326  367  368  370  397  405  465  489  510\n",
      "  636  915 1144 1150]\n",
      "\n",
      "Features: Index(['syct', 'mmin', 'mmax', 'cach', 'chmin', 'chmax'], dtype='object')\n",
      "\n",
      "Dataset Summary:\n",
      "                 syct          mmin          mmax         cach      chmin  \\\n",
      "mean      203.822967  2.867981e+03  1.179615e+04    25.205742   4.698565   \n",
      "median    110.000000  2.000000e+03  8.000000e+03     8.000000   2.000000   \n",
      "min        17.000000  6.400000e+01  6.400000e+01     0.000000   0.000000   \n",
      "max      1500.000000  3.200000e+04  6.400000e+04   256.000000  52.000000   \n",
      "var     67412.691147  1.497266e+07  1.368544e+08  1642.794991  46.239280   \n",
      "\n",
      "             chmax  \n",
      "mean     18.267943  \n",
      "median    8.000000  \n",
      "min       0.000000  \n",
      "max     176.000000  \n",
      "var     672.626771  \n"
     ]
    }
   ],
   "source": [
    "from si.io.csv_file import read_csv\n",
    "from si.data.dataset import Dataset\n",
    "\n",
    "# Load CPU dataset\n",
    "data = read_csv(\"../datasets/cpu/cpu.csv\", features=True, label=True)\n",
    "\n",
    "print(f\"Shape: {data.shape()}\")\n",
    "print(f\"Has Label?: {data.has_label()}\\n\")\n",
    "print(f\"Label/Classes: \\n{data.get_classes()}\\n\")\n",
    "print(f\"Features: {data.features}\\n\")\n",
    "print(f\"Dataset Summary:\\n {data.summary()}\")\n",
    "\n",
    "data = Dataset(X=data.X, y=data.y, features=data.features, label=data.label)"
   ]
  },
  {
   "cell_type": "code",
   "execution_count": 2,
   "metadata": {},
   "outputs": [
    {
     "name": "stdout",
     "output_type": "stream",
     "text": [
      "Runtime with tolerance: 0.0120 seconds\n",
      "Runtime without tolerance: 0.2130 seconds\n",
      "MSE with tolerance: 3478.4781\n",
      "MSE without tolerance: 3478.4781\n",
      "Lasso with tolerance MSE == Lasso no tolerance MSE?: True\n"
     ]
    }
   ],
   "source": [
    "from si.models.lasso_regression import LassoRegression\n",
    "import time\n",
    "\n",
    "# Test with tolerance\n",
    "lasso_with_tol = LassoRegression(tolerance=1e-4)\n",
    "start_with_tol = time.time()\n",
    "lasso_with_tol.fit(data)\n",
    "end_with_tol = time.time()\n",
    "\n",
    "# Test without tolerance\n",
    "lasso_no_tol = LassoRegression(tolerance=0)  # Set tolerance to 0 to disable it\n",
    "start_no_tol = time.time()\n",
    "lasso_no_tol.fit(data)\n",
    "end_no_tol = time.time()\n",
    "\n",
    "# Compare runtime\n",
    "print(f\"Runtime with tolerance: {end_with_tol - start_with_tol:.4f} seconds\")\n",
    "print(f\"Runtime without tolerance: {end_no_tol - start_no_tol:.4f} seconds\")\n",
    "\n",
    "# Compare accuracy\n",
    "predictions_with_tol = lasso_with_tol.predict(data)\n",
    "predictions_no_tol = lasso_no_tol.predict(data)\n",
    "\n",
    "result_with_tol = lasso_with_tol.score(data)\n",
    "result_no_tol = lasso_with_tol.score(data)\n",
    "print(f\"MSE with tolerance: {round(result_with_tol, 4)}\")\n",
    "print(f\"MSE without tolerance: {round(result_no_tol, 4)}\")\n",
    "print(\"Lasso with tolerance MSE == Lasso no tolerance MSE?:\", result_with_tol == result_no_tol)"
   ]
  }
 ],
 "metadata": {
  "kernelspec": {
   "display_name": "myenv",
   "language": "python",
   "name": "python3"
  },
  "language_info": {
   "codemirror_mode": {
    "name": "ipython",
    "version": 3
   },
   "file_extension": ".py",
   "mimetype": "text/x-python",
   "name": "python",
   "nbconvert_exporter": "python",
   "pygments_lexer": "ipython3",
   "version": "3.12.7"
  }
 },
 "nbformat": 4,
 "nbformat_minor": 2
}
